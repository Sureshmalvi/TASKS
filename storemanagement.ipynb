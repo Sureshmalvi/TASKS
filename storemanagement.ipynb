{
 "cells": [
  {
   "cell_type": "code",
   "execution_count": 10,
   "id": "809334a1",
   "metadata": {},
   "outputs": [
    {
     "name": "stdout",
     "output_type": "stream",
     "text": [
      "::::-----welcome to celebration mall----:::::\n",
      "\n",
      "--------menu----------\n",
      "1.sugar------------45/kg.\n",
      "2.milk-------------50/l.\n",
      "3.honey------------566/l.\n",
      "4.soap-------------100/pack.\n",
      "5.wheat------------15/kg.\n",
      "6.amla-------------150/kg.\n",
      "7.ghee-------------1200/l.\n",
      "8.salt-------------30/kg.\n",
      "9.biryani----------322/kg\n",
      "PRESS E for EXIT--------\n",
      "\n",
      "enter the value from menu=ghee\n",
      "enter quantity=30\n",
      "Amount of ghee =  30.0 x 1200 = 36000.0 /-\n",
      "enter the value from menu=salt\n",
      "enter quantity=20\n",
      "Amount of salt =  20.0 x 30 = 600.0 /-\n",
      "enter the value from menu=E\n",
      "your total order bill is= 36600.0 /-\n",
      "your orde list is= E -------- 20.0 = 20.0 x E /-\n"
     ]
    }
   ],
   "source": [
    "    print('::::-----welcome to celebration mall----:::::')\n",
    "    sum=0\n",
    "    menu={'sugar':45,'milk':50,'honey':566,'soap':100,'wheat':15,'amla':150,'ghee':1200,'salt':30,'biryani':322}\n",
    "    lst=list(menu.keys())\n",
    "    print('''\n",
    "    --------menu----------\n",
    "    1.sugar------------45/kg.\n",
    "    2.milk-------------50/l.\n",
    "    3.honey------------566/l.\n",
    "    4.soap-------------100/pack.\n",
    "    5.wheat------------15/kg.\n",
    "    6.amla-------------150/kg.\n",
    "    7.ghee-------------1200/l.\n",
    "    8.salt-------------30/kg.\n",
    "    9.biryani----------322/kg\n",
    "    PRESS E for EXIT--------\n",
    "    ''')\n",
    "    while True:\n",
    "        choice=input(\"enter the value from menu=\")\n",
    "        if choice in lst:\n",
    "            a=float(input(\"enter quantity=\"))\n",
    "            sum=sum+(a*menu[choice])\n",
    "            print(\"Amount of\", choice,\"= \",a,\"x\",menu[choice],\"=\",(a*menu[choice]),\"/-\")\n",
    "            \n",
    "        elif choice==\"E\":\n",
    "            break\n",
    "        else:\n",
    "            print(\"sorry! this item is not Available please order right item\")\n",
    "print(\"your total order bill is=\",sum,\"/-\")\n",
    "    \n"
   ]
  },
  {
   "cell_type": "code",
   "execution_count": null,
   "id": "b51add0f",
   "metadata": {},
   "outputs": [],
   "source": []
  },
  {
   "cell_type": "code",
   "execution_count": null,
   "id": "fe1c13e0",
   "metadata": {},
   "outputs": [],
   "source": []
  },
  {
   "cell_type": "code",
   "execution_count": null,
   "id": "c731652b",
   "metadata": {},
   "outputs": [],
   "source": []
  }
 ],
 "metadata": {
  "kernelspec": {
   "display_name": "Python 3.10.4 64-bit",
   "language": "python",
   "name": "python3104jvsc74a57bd05d20f40580c21928be73b600359fc8293a4f24efb930e0fe040271e250a95f02"
  },
  "language_info": {
   "codemirror_mode": {
    "name": "ipython",
    "version": 3
   },
   "file_extension": ".py",
   "mimetype": "text/x-python",
   "name": "python",
   "nbconvert_exporter": "python",
   "pygments_lexer": "ipython3",
   "version": "3.10.4"
  }
 },
 "nbformat": 4,
 "nbformat_minor": 5
}
