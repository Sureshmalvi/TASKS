{
 "cells": [
  {
   "cell_type": "code",
   "execution_count": null,
   "id": "3181f9d9",
   "metadata": {},
   "outputs": [],
   "source": [
    "first=(input(\"enter first number\"))\n",
    "operator=(input(\"enter operator (+,-,*</<%):\"))\n",
    "second=(input(\"enter second number:\"))\n",
    "first=int(first)\n",
    "second=int(second)\n",
    "if operator==\"+\":\n",
    "    print(first+second)\n",
    "elif operator==\"-\":\n",
    "    print(first-second)\n",
    "elif operator==\"*\":\n",
    "    print(first*second)\n",
    "elif operator==\"%\":\n",
    "    print(first%second)\n",
    "elif operator==\"/\":\n",
    "    print(first/second)\n",
    "else:\n",
    "    print(\"invalid operation\")\n",
    "    "
   ]
  },
  {
   "cell_type": "code",
   "execution_count": null,
   "id": "28e969d9",
   "metadata": {},
   "outputs": [],
   "source": []
  }
 ],
 "metadata": {
  "kernelspec": {
   "display_name": "Python 3.10.4 64-bit",
   "language": "python",
   "name": "python3104jvsc74a57bd05d20f40580c21928be73b600359fc8293a4f24efb930e0fe040271e250a95f02"
  },
  "language_info": {
   "codemirror_mode": {
    "name": "ipython",
    "version": 3
   },
   "file_extension": ".py",
   "mimetype": "text/x-python",
   "name": "python",
   "nbconvert_exporter": "python",
   "pygments_lexer": "ipython3",
   "version": "3.10.4"
  }
 },
 "nbformat": 4,
 "nbformat_minor": 5
}
