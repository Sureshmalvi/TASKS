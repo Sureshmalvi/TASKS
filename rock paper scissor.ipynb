{
 "cells": [
  {
   "cell_type": "code",
   "execution_count": 1,
   "id": "0a51926b",
   "metadata": {},
   "outputs": [
    {
     "name": "stdout",
     "output_type": "stream",
     "text": [
      "--------:Welcome to Rock Paper Scisser game:--------\n",
      ":------------------------------:\n",
      "my chance= suresh\n",
      "computer chance=  paper\n",
      ":------------------------------:\n",
      ":------------------------------:\n",
      ":------------------------------:\n",
      "    :------Game Over-----:\n",
      "play again(y/n)= y\n",
      "--------:Welcome to Rock Paper Scisser game:--------\n",
      ":------------------------------:\n",
      "my chance= rock\n",
      "computer chance=  rock\n",
      ":------------------------------:\n",
      ":------------------------------:\n",
      "Both are same! Game tie.\n",
      ":------------------------------:\n",
      "    :------Game Over-----:\n",
      "play again(y/n)= kushal\n"
     ]
    }
   ],
   "source": [
    "import random\n",
    "while True:\n",
    " print(\"--------:Welcome to Rock Paper Scisser game:--------\")\n",
    "\n",
    "\n",
    " print(\":------------------------------:\")\n",
    " chance=input(\"my chance= \")\n",
    "\n",
    " lst=[\"rock\", \"paper\", \"scisser\"]\n",
    " computer=random.choice(lst)\n",
    " print(\"computer chance= \", computer)\n",
    " print(\":------------------------------:\")\n",
    "\n",
    " print(\":------------------------------:\")\n",
    "\n",
    " if chance==computer:\n",
    "    print(\"Both are same! Game tie.\")\n",
    "\n",
    " elif chance==\"rock\":\n",
    "    if computer==\"scisser\":\n",
    "        print(\"Rock break scisser! You win.\")\n",
    "    else:\n",
    "        print(\"Paper covered rock! Computer win.\")\n",
    "\n",
    " elif chance==\"scisser\":\n",
    "    if computer==\"paper\":\n",
    "        print(\"Scisser cuts paper! You win\")\n",
    "    else:\n",
    "        print(\"Rock break scisser! Computer win\")\n",
    " \n",
    " elif chance==\"paper\":\n",
    "    if computer==\"rock\":\n",
    "        print(\"Paper covered rock! You win\")\n",
    "    else:\n",
    "        print(\"Scisser cut Paper! Computer win\")                    \n",
    " \n",
    " print(\":------------------------------:\")\n",
    " print(\"    :------Game Over-----:\")\n",
    " play_again=input(\"play again(y/n)= \")\n",
    " if play_again.lower()!=\"y\":\n",
    "        break         "
   ]
  },
  {
   "cell_type": "code",
   "execution_count": null,
   "id": "6b0f9941",
   "metadata": {},
   "outputs": [],
   "source": [
    "import random\n",
    "l=[\"rock\",\"paper\",\"scissor\"]\n",
    "c=random.choice(l)\n",
    "print(\":------GAME START--------:\")\n",
    "print(\"computer change\",c)\n",
    "you=int(input('''\n",
    "1 rock\n",
    "2 paper\n",
    "3 scissor\n",
    "'''))\n",
    "if you==1 and c==\"paper\":\n",
    "\n"
   ]
  },
  {
   "cell_type": "code",
   "execution_count": null,
   "id": "e72f5668",
   "metadata": {},
   "outputs": [],
   "source": []
  }
 ],
 "metadata": {
  "kernelspec": {
   "display_name": "Python 3.10.4 64-bit",
   "language": "python",
   "name": "python3104jvsc74a57bd05d20f40580c21928be73b600359fc8293a4f24efb930e0fe040271e250a95f02"
  },
  "language_info": {
   "codemirror_mode": {
    "name": "ipython",
    "version": 3
   },
   "file_extension": ".py",
   "mimetype": "text/x-python",
   "name": "python",
   "nbconvert_exporter": "python",
   "pygments_lexer": "ipython3",
   "version": "3.10.4"
  }
 },
 "nbformat": 4,
 "nbformat_minor": 5
}
