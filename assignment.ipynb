{
 "cells": [
  {
   "cell_type": "code",
   "execution_count": 1,
   "id": "29ab2659",
   "metadata": {},
   "outputs": [
    {
     "name": "stdout",
     "output_type": "stream",
     "text": [
      "enter your percentage65\n",
      "you got D percentage\n"
     ]
    }
   ],
   "source": [
    "a=float(input(\"enter your percentage\"))\n",
    "if a>=90 and a<=100:\n",
    "    print(\" congratulation! you got A grade\")\n",
    "elif a>=80 and a<=90:\n",
    "    print(\" you got B grade\")\n",
    "elif a>=70 and a<=80:\n",
    "    print(\"you got C percentage\")\n",
    "elif a>=60 and a<=70:\n",
    "    print(\"you got D percentage\")\n",
    "elif a>=50 and a<=60:\n",
    "    print(\"you got compartment\")\n",
    "else:\n",
    "    print('sorry better luck for next time')"
   ]
  },
  {
   "cell_type": "code",
   "execution_count": 2,
   "id": "850ac8d7",
   "metadata": {},
   "outputs": [
    {
     "name": "stdout",
     "output_type": "stream",
     "text": [
      "enter cost of bike300000\n",
      "15%\n"
     ]
    }
   ],
   "source": [
    "cost=int(input(\"enter cost of bike\"))\n",
    "if cost>100000:\n",
    "    print(\"15%\")\n",
    "elif cost>50000 and cost<=100000:\n",
    "          print(\"10%\")\n",
    "elif cost<=50000:\n",
    "          print(\"5%\")\n",
    "else:\n",
    "          print(\"you enter wrong information\")\n",
    "    "
   ]
  },
  {
   "cell_type": "code",
   "execution_count": 3,
   "id": "09c6aa86",
   "metadata": {},
   "outputs": [
    {
     "name": "stdout",
     "output_type": "stream",
     "text": [
      "enter the year2022\n",
      "its not a leap year\n"
     ]
    }
   ],
   "source": [
    "year=int(input(\"enter the year\"))\n",
    "if year%400==0 and year%100==0:\n",
    "    print(\"its leap year\")\n",
    "elif year%4==0:\n",
    "    print(\"{0} its a leap year\".format(year))\n",
    "else:\n",
    "    print(\"its not a leap year\")\n",
    "    "
   ]
  },
  {
   "cell_type": "code",
   "execution_count": 4,
   "id": "e39ed395",
   "metadata": {},
   "outputs": [
    {
     "name": "stdout",
     "output_type": "stream",
     "text": [
      "enter the number:3\n",
      "wednesday\n"
     ]
    }
   ],
   "source": [
    "num=int(input(\"enter the number:\"))\n",
    "if num==1:\n",
    "    print(\"monday\")\n",
    "elif num==2:\n",
    "    print('tuesday')\n",
    "elif num==3:\n",
    "    print(\"wednesday\")\n",
    "elif num==4:\n",
    "    print(\"thursday\")\n",
    "elif num==5:\n",
    "    print(\"friday\")\n",
    "elif num==6:\n",
    "    print(\"saturday\")\n",
    "elif num==7:\n",
    "    print(\"sunday\")\n",
    "else:\n",
    "    print(\"please enter value between 1 to 7\")"
   ]
  },
  {
   "cell_type": "code",
   "execution_count": null,
   "id": "758c2a72",
   "metadata": {},
   "outputs": [],
   "source": []
  },
  {
   "cell_type": "code",
   "execution_count": 5,
   "id": "29ccb029",
   "metadata": {},
   "outputs": [
    {
     "name": "stdout",
     "output_type": "stream",
     "text": [
      "enter your city:dehli\n",
      "monument in dehli is red fort\n"
     ]
    }
   ],
   "source": [
    "city=input(\"enter your city:\")\n",
    "if city==\"dehli\":\n",
    "    print(\"monument in dehli is red fort\")\n",
    "elif city==\"agra\":\n",
    "    print(\"monument in agra is taj mahal \")\n",
    "elif city==\"jaipur\":\n",
    "    print(\"monument in jaipur is jal mahal\")\n",
    "else:\n",
    "    print(\"please enter city which mention in above\")"
   ]
  },
  {
   "cell_type": "code",
   "execution_count": 6,
   "id": "6643e07e",
   "metadata": {},
   "outputs": [
    {
     "ename": "TypeError",
     "evalue": "max3() missing 1 required positional argument: 'z'",
     "output_type": "error",
     "traceback": [
      "\u001b[1;31m---------------------------------------------------------------------------\u001b[0m",
      "\u001b[1;31mTypeError\u001b[0m                                 Traceback (most recent call last)",
      "Input \u001b[1;32mIn [6]\u001b[0m, in \u001b[0;36m<cell line: 7>\u001b[1;34m()\u001b[0m\n\u001b[0;32m      5\u001b[0m \u001b[38;5;28;01mdef\u001b[39;00m \u001b[38;5;21mmax3\u001b[39m(x,y,z):\n\u001b[0;32m      6\u001b[0m     \u001b[38;5;28;01mreturn\u001b[39;00m \u001b[38;5;28mmax\u001b[39m(x,max3(y,z))\n\u001b[1;32m----> 7\u001b[0m \u001b[38;5;28mprint\u001b[39m(\u001b[43mmax3\u001b[49m\u001b[43m(\u001b[49m\u001b[38;5;241;43m23\u001b[39;49m\u001b[43m,\u001b[49m\u001b[38;5;241;43m25\u001b[39;49m\u001b[43m,\u001b[49m\u001b[38;5;241;43m23\u001b[39;49m\u001b[43m)\u001b[49m)\n",
      "Input \u001b[1;32mIn [6]\u001b[0m, in \u001b[0;36mmax3\u001b[1;34m(x, y, z)\u001b[0m\n\u001b[0;32m      5\u001b[0m \u001b[38;5;28;01mdef\u001b[39;00m \u001b[38;5;21mmax3\u001b[39m(x,y,z):\n\u001b[1;32m----> 6\u001b[0m     \u001b[38;5;28;01mreturn\u001b[39;00m \u001b[38;5;28mmax\u001b[39m(x,\u001b[43mmax3\u001b[49m\u001b[43m(\u001b[49m\u001b[43my\u001b[49m\u001b[43m,\u001b[49m\u001b[43mz\u001b[49m\u001b[43m)\u001b[49m)\n",
      "\u001b[1;31mTypeError\u001b[0m: max3() missing 1 required positional argument: 'z'"
     ]
    }
   ],
   "source": []
  },
  {
   "cell_type": "code",
   "execution_count": null,
   "id": "309a7e58",
   "metadata": {},
   "outputs": [],
   "source": [
    "def maximum(a,b,c):\n",
    "    list=[a,b,c]\n",
    "    return max[list]\n",
    "print(maximum(a,b,c))"
   ]
  },
  {
   "cell_type": "code",
   "execution_count": null,
   "id": "13abdb1a",
   "metadata": {},
   "outputs": [],
   "source": [
    "class parent():\n",
    "    def child(self):\n",
    "        print(\"lets! go to drive\")\n",
    "class suresh(parent):\n",
    "    def gf(self):\n",
    "        print(\"lets\")\n",
    "        "
   ]
  },
  {
   "cell_type": "code",
   "execution_count": null,
   "id": "9208ba4e",
   "metadata": {},
   "outputs": [],
   "source": [
    "\n",
    "suresh.gf()"
   ]
  },
  {
   "cell_type": "code",
   "execution_count": null,
   "id": "4dfe7b0c",
   "metadata": {},
   "outputs": [],
   "source": [
    "#multiple inheritence\n",
    "class amazon:\n",
    "    employeename=\"\"\n",
    "    def amazon(self):\n",
    "        print(self.employeename)\n",
    "class filpcart:\n",
    "    shareholder=\"\"\n",
    "    def filpcart(self):\n",
    "        print(self.shareholder)\n",
    "class ecommerce(amazon,filpcart):\n",
    "    def payment(self):\n",
    "        print('my company name is:' self.employeename)\n",
    "        print(\"my second company name is:\",self.shareholder)\n",
    "\n",
    "    "
   ]
  },
  {
   "cell_type": "code",
   "execution_count": null,
   "id": "5ab3558e",
   "metadata": {},
   "outputs": [],
   "source": [
    "\n"
   ]
  },
  {
   "cell_type": "code",
   "execution_count": null,
   "id": "86d7edaf",
   "metadata": {},
   "outputs": [],
   "source": []
  },
  {
   "cell_type": "code",
   "execution_count": null,
   "id": "72122b99",
   "metadata": {},
   "outputs": [],
   "source": []
  },
  {
   "cell_type": "code",
   "execution_count": null,
   "id": "4af91ae1",
   "metadata": {},
   "outputs": [],
   "source": []
  },
  {
   "cell_type": "code",
   "execution_count": null,
   "id": "8b059d52",
   "metadata": {},
   "outputs": [],
   "source": []
  },
  {
   "cell_type": "code",
   "execution_count": null,
   "id": "b272ad2b",
   "metadata": {},
   "outputs": [],
   "source": []
  },
  {
   "cell_type": "code",
   "execution_count": null,
   "id": "52f7256e",
   "metadata": {},
   "outputs": [],
   "source": []
  },
  {
   "cell_type": "code",
   "execution_count": null,
   "id": "1e9b3913",
   "metadata": {},
   "outputs": [],
   "source": []
  },
  {
   "cell_type": "code",
   "execution_count": null,
   "id": "d915fb6b",
   "metadata": {},
   "outputs": [],
   "source": []
  }
 ],
 "metadata": {
  "kernelspec": {
   "display_name": "Python 3 (ipykernel)",
   "language": "python",
   "name": "python3"
  },
  "language_info": {
   "codemirror_mode": {
    "name": "ipython",
    "version": 3
   },
   "file_extension": ".py",
   "mimetype": "text/x-python",
   "name": "python",
   "nbconvert_exporter": "python",
   "pygments_lexer": "ipython3",
   "version": "3.10.4"
  }
 },
 "nbformat": 4,
 "nbformat_minor": 5
}
